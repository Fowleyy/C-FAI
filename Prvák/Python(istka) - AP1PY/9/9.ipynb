{
 "cells": [
  {
   "attachments": {},
   "cell_type": "markdown",
   "metadata": {},
   "source": [
    "## AP1PY - Python - Úkol 07"
   ]
  },
  {
   "attachments": {},
   "cell_type": "markdown",
   "metadata": {},
   "source": [
    "1. Pomocí funkce `datetime.strptime()` převeďte následující řetězce na objekt třídy `datetime`. (2b) \n",
    "* \"1.1.2023 03h15m56s\"\n",
    "* \"Feb 25 2023 4:20PM\" \n",
    "* \"20231208 14:56\"\n",
    "* \"04/08/2023 03:10\"\n",
    "* \"Wed 01/29/23 12:33PM\""
   ]
  },
  {
   "cell_type": "code",
   "execution_count": 9,
   "metadata": {},
   "outputs": [
    {
     "name": "stdout",
     "output_type": "stream",
     "text": [
      "2023-01-01 03:15:56\n",
      "2023-02-25 16:20:00\n",
      "2023-12-08 14:56:00\n",
      "2023-04-08 03:10:00\n",
      "2023-01-29 12:33:00\n"
     ]
    }
   ],
   "source": [
    "from datetime import datetime\n",
    "\n",
    "date_time_1 = datetime.strptime(\"1.1.2023 03h15m56s\", \"%d.%m.%Y %Hh%Mm%Ss\")\n",
    "date_time_2 = datetime.strptime(\"Feb 25 2023 4:20PM\", \"%b %d %Y %I:%M%p\")\n",
    "date_time_3 = datetime.strptime(\"20231208 14:56\", \"%Y%m%d %H:%M\")\n",
    "date_time_4 = datetime.strptime(\"04/08/2023 03:10\", \"%m/%d/%Y %H:%M\")\n",
    "date_time_5 = datetime.strptime(\"Wed 01/29/23 12:33PM\", \"%a %m/%d/%y %I:%M%p\")\n",
    "print(date_time_1)\n",
    "print(date_time_2)\n",
    "print(date_time_3)\n",
    "print(date_time_4)\n",
    "print(date_time_5)\n"
   ]
  },
  {
   "attachments": {},
   "cell_type": "markdown",
   "metadata": {},
   "source": [
    "2. Vytvořte program, který požádá uživatele o datum narození a řekne mu za kolik dní bude mít narozeniny. (2b)   "
   ]
  },
  {
   "cell_type": "code",
   "execution_count": 10,
   "metadata": {},
   "outputs": [
    {
     "name": "stdout",
     "output_type": "stream",
     "text": [
      "Zbývá 276 dní do narozenin.\n"
     ]
    }
   ],
   "source": [
    "from datetime import datetime, timedelta\n",
    "\n",
    "def kdyNarozeniny(birthday):\n",
    "    today = datetime.now().date()\n",
    "    next_birthday = datetime(today.year, birthday.month, birthday.day).date()\n",
    "\n",
    "    if today > next_birthday:\n",
    "        next_birthday = datetime(today.year + 1, birthday.month, birthday.day).date()\n",
    "\n",
    "    days_left = (next_birthday - today).days\n",
    "    return days_left\n",
    "\n",
    "user_input = input(\"Zadejte datum narození ve formátu DD.MM.RRRR: \")\n",
    "birthday = datetime.strptime(user_input, \"%d.%m.%Y\").date()\n",
    "\n",
    "days_left = kdyNarozeniny(birthday)\n",
    "if days_left == 0:\n",
    "    print(\"Dnes máš narozeniny!\")\n",
    "elif days_left == 1:\n",
    "    print(\"Zbývá 1 den do narozenin.\")\n",
    "else:\n",
    "    print(f\"Zbývá {days_left} dní do narozenin.\")"
   ]
  },
  {
   "attachments": {},
   "cell_type": "markdown",
   "metadata": {},
   "source": [
    "3. Vytvořte simulátor pro hod dvěma kostkami. Pomocí simulace 1000 hodů dvěma kostkami vypočtěte četnost jednotlivých možných výsledků (součet 2 až součet 12) ve formě slovníku `dict`, kdy jednotlivé klíče budou výsledek hodu kostkami a hodnoty budou obsahovat počet výsledků stejné hodnoty z 1000 hodů. (2b)  "
   ]
  },
  {
   "cell_type": "code",
   "execution_count": 11,
   "metadata": {},
   "outputs": [
    {
     "name": "stdout",
     "output_type": "stream",
     "text": [
      "Četnost výsledků ze 1000 hodů dvěma kostkami:\n",
      "Součet: 2 - Počet: 28\n",
      "Součet: 3 - Počet: 49\n",
      "Součet: 4 - Počet: 85\n",
      "Součet: 5 - Počet: 103\n",
      "Součet: 6 - Počet: 157\n",
      "Součet: 7 - Počet: 163\n",
      "Součet: 8 - Počet: 141\n",
      "Součet: 9 - Počet: 117\n",
      "Součet: 10 - Počet: 89\n",
      "Součet: 11 - Počet: 40\n",
      "Součet: 12 - Počet: 28\n"
     ]
    }
   ],
   "source": [
    "import random\n",
    "\n",
    "def simulace(num_rolls):\n",
    "    results = {}\n",
    "\n",
    "    for _ in range(num_rolls):\n",
    "        dice1 = random.randint(1, 6)\n",
    "        dice2 = random.randint(1, 6)\n",
    "        total = dice1 + dice2\n",
    "\n",
    "        if total in results:\n",
    "            results[total] += 1\n",
    "        else:\n",
    "            results[total] = 1\n",
    "\n",
    "    return results\n",
    "\n",
    "num_rolls = 1000\n",
    "results_dict = simulace(num_rolls)\n",
    "\n",
    "print(\"Četnost výsledků ze 1000 hodů dvěma kostkami:\")\n",
    "for result, frequency in sorted(results_dict.items()):\n",
    "    print(f\"Součet: {result} - Počet: {frequency}\")"
   ]
  },
  {
   "attachments": {},
   "cell_type": "markdown",
   "metadata": {},
   "source": [
    "4. Vytvořte funkci `fake_coin()`, která bude mít výstup buď \"hlava\" nebo \"orel\", kde pravděpodobnost, že padne hlava je ale 75%. (1b) "
   ]
  },
  {
   "cell_type": "code",
   "execution_count": 12,
   "metadata": {},
   "outputs": [
    {
     "name": "stdout",
     "output_type": "stream",
     "text": [
      "orel\n",
      "hlava\n",
      "orel\n",
      "orel\n",
      "hlava\n",
      "hlava\n",
      "orel\n",
      "hlava\n",
      "hlava\n",
      "hlava\n"
     ]
    }
   ],
   "source": [
    "import random\n",
    "\n",
    "def fake_coin():\n",
    "    outcome = random.choices(['hlava', 'orel'], weights=[0.75, 0.25], k=1)\n",
    "    return outcome[0]\n",
    "\n",
    "for _ in range(10):\n",
    "    result = fake_coin()\n",
    "    print(result)"
   ]
  },
  {
   "attachments": {},
   "cell_type": "markdown",
   "metadata": {},
   "source": [
    "5. Vytvořte program pro náhodné rozdání 32 karet mezi N hráčů (N je v rozsahu 2 až 16 ), tak aby měli všichni stejně karet. Zbytek karet zůstane v hromádce. (3b)"
   ]
  },
  {
   "cell_type": "code",
   "execution_count": 13,
   "metadata": {},
   "outputs": [
    {
     "name": "stdout",
     "output_type": "stream",
     "text": [
      "Player 1: 8_clubs, ace_clubs, 10_diamonds, king_clubs, 7_hearts, 8_spades, 7_spades, 10_clubs\n",
      "Player 2: 9_spades, jack_spades, 7_clubs, king_hearts, ace_spades, king_spades, queen_hearts, 9_clubs\n",
      "Player 3: 8_hearts, jack_clubs, ace_hearts, queen_spades, queen_clubs, queen_diamonds, 9_diamonds, jack_diamonds\n",
      "Player 4: jack_hearts, 7_diamonds, ace_diamonds, 10_hearts, 10_spades, 8_diamonds, 9_hearts, king_diamonds\n",
      "Zbývající karty v hromádce: \n"
     ]
    }
   ],
   "source": [
    "import random\n",
    "\n",
    "vals = ['7', '8', '9', '10', 'jack', 'queen', 'king', 'ace']\n",
    "suits = ['spades', 'clubs', 'hearts', 'diamonds']\n",
    "deck_of_cards = []\n",
    "\n",
    "for val in vals:\n",
    "    for suit in suits:\n",
    "        deck_of_cards.append(val + \"_\" + suit)\n",
    "\n",
    "def zamichatKarty(deck, N):\n",
    "    random.shuffle(deck) \n",
    "    cards_per_player = len(deck) // N  \n",
    "\n",
    "    hands = {}  \n",
    "    for i in range(N):\n",
    "        hands[f'Player {i + 1}'] = deck[i * cards_per_player: (i + 1) * cards_per_player]\n",
    "\n",
    "    remaining_cards = deck[N * cards_per_player:] \n",
    "\n",
    "    return hands, remaining_cards\n",
    "\n",
    "num_players = 4\n",
    "\n",
    "player_hands, remaining_deck = zamichatKarty(deck_of_cards, num_players)\n",
    "\n",
    "for player, cards in player_hands.items():\n",
    "    print(f\"{player}: {', '.join(cards)}\")\n",
    "\n",
    "print(f\"Zbývající karty v hromádce: {', '.join(remaining_deck)}\")"
   ]
  }
 ],
 "metadata": {
  "kernelspec": {
   "display_name": "Python 3",
   "language": "python",
   "name": "python3"
  },
  "language_info": {
   "codemirror_mode": {
    "name": "ipython",
    "version": 3
   },
   "file_extension": ".py",
   "mimetype": "text/x-python",
   "name": "python",
   "nbconvert_exporter": "python",
   "pygments_lexer": "ipython3",
   "version": "3.11.5"
  },
  "orig_nbformat": 4,
  "vscode": {
   "interpreter": {
    "hash": "c261aea317cc0286b3b3261fbba9abdec21eaa57589985bb7a274bf54d6cc0a7"
   }
  }
 },
 "nbformat": 4,
 "nbformat_minor": 2
}
