{
 "cells": [
  {
   "attachments": {},
   "cell_type": "markdown",
   "metadata": {},
   "source": [
    "## AP1PY - Python - Úkol 04"
   ]
  },
  {
   "attachments": {},
   "cell_type": "markdown",
   "metadata": {},
   "source": [
    "1. Vytvořte funkci `sum_digits()`, která převede číslo použité jako parametr na součet číslic. (2b)  \n",
    "Např. '4589' =  4 + 5 + 8 + 9 = 26"
   ]
  },
  {
   "cell_type": "code",
   "execution_count": 2,
   "metadata": {},
   "outputs": [
    {
     "name": "stdout",
     "output_type": "stream",
     "text": [
      "Součet číslic čísla 4589 = 26\n"
     ]
    }
   ],
   "source": [
    "def sum_digits(number):\n",
    "    number_str = str(number)\n",
    "    \n",
    "    total = 0\n",
    "    \n",
    "    for digit in number_str:\n",
    "        if digit.isdigit(): \n",
    "            total += int(digit)\n",
    "    \n",
    "    return total\n",
    "number = int(input(\"Vlož číslo\"))\n",
    "result = sum_digits(number)\n",
    "print(f'Součet číslic čísla {number} = {result}')"
   ]
  },
  {
   "attachments": {},
   "cell_type": "markdown",
   "metadata": {},
   "source": [
    "2. Vytvořte funkci `draw_pyramid(layers)`, která po zadání počtu úrovní vykreslí pyramidu pomocí hvězdiček. (2b)  \n",
    "Po zadání hodnoty 5 by se mělo na obrazovku vykreslit: "
   ]
  },
  {
   "cell_type": "code",
   "execution_count": null,
   "metadata": {},
   "outputs": [],
   "source": [
    "'''\n",
    "    *\n",
    "   ***\n",
    "  *****\n",
    " *******\n",
    "*********\n",
    "'''"
   ]
  },
  {
   "cell_type": "code",
   "execution_count": 3,
   "metadata": {},
   "outputs": [
    {
     "name": "stdout",
     "output_type": "stream",
     "text": [
      "    *\n",
      "   ***\n",
      "  *****\n",
      " *******\n",
      "*********\n"
     ]
    }
   ],
   "source": [
    "def draw_pyramid(layers):\n",
    "    for i in range(1, layers + 1):\n",
    "      \n",
    "        spaces = \" \" * (layers - i)\n",
    "        \n",
    "        stars = \"*\" * (2 * i - 1)\n",
    "        \n",
    "        print(spaces + stars)\n",
    "layers = 5\n",
    "draw_pyramid(layers)"
   ]
  },
  {
   "attachments": {},
   "cell_type": "markdown",
   "metadata": {},
   "source": [
    "3. Vytvořte funkci `print_descending(N)`, která vypíše N přirozených čísel uspořádaných sestupně. (1b)  "
   ]
  },
  {
   "cell_type": "code",
   "execution_count": 4,
   "metadata": {},
   "outputs": [
    {
     "name": "stdout",
     "output_type": "stream",
     "text": [
      "5\n",
      "4\n",
      "3\n",
      "2\n",
      "1\n"
     ]
    }
   ],
   "source": [
    "def print_descending(N):\n",
    "    for i in range(N, 0, -1):\n",
    "        print(i)\n",
    "\n",
    "N = 5\n",
    "print_descending(N)"
   ]
  },
  {
   "attachments": {},
   "cell_type": "markdown",
   "metadata": {},
   "source": [
    "4. Vytvořte funkci `multiply()`, která vynásobí všechny prvky uvedené jako argumenty funkce. `multiply(1,5,6,2,3)` by mělo vrátit 180. Ošetřete tak aby v případě nezadání čísla ale třeba řetězce program nespadl. (2b)  \n",
    "Např.  \n",
    "\\>>> print(multiply(10,2,8,4))  \n",
    "640  \n",
    "\\>>> print(multiply(10,\"ahoj\",8,4))  \n",
    "Argument \"ahoj\" not valid, skipping...  \n",
    "320  "
   ]
  },
  {
   "cell_type": "code",
   "execution_count": 5,
   "metadata": {},
   "outputs": [
    {
     "name": "stdout",
     "output_type": "stream",
     "text": [
      "180\n",
      "640\n",
      "Argument \"ahoj\" not valid, skipping...\n",
      "320\n"
     ]
    }
   ],
   "source": [
    "def multiply(*args):\n",
    "    result = 1  \n",
    "\n",
    "    for arg in args:\n",
    "        if isinstance(arg, (int, float)):\n",
    "            result *= arg\n",
    "        else:\n",
    "            print(f'Argument \"{arg}\" not valid, skipping...')\n",
    "\n",
    "    return result\n",
    "\n",
    "\n",
    "print(multiply(1, 5, 6, 2, 3)) \n",
    "print(multiply(10, 2, 8, 4))   \n",
    "print(multiply(10, \"ahoj\", 8, 4))"
   ]
  },
  {
   "attachments": {},
   "cell_type": "markdown",
   "metadata": {},
   "source": [
    "5. Vytvořte funkci `email_pass_validator(my_email:str, my_password:str) -> bool`, která zkontroluje zda řetězec `my_email` neobsahuje mezery a zda obsahuje symbol `@` a také za tímto znakem někde symbol `.` Také zkontroluje zda řetězec `my_password` obsahuje jak malé tak velké znaky a obsahuje alespoň jednu číslici. (3b)  \n",
    "Např.  \n",
    "\\>>> email_pass_validator(\"abc@utb.cz\",\"myPassword78\")  \n",
    "True  \n",
    "\\>>> email_pass_validator(\"abc@utb.cz\",\"myPassword\")  \n",
    "False"
   ]
  },
  {
   "cell_type": "code",
   "execution_count": 6,
   "metadata": {},
   "outputs": [
    {
     "name": "stdout",
     "output_type": "stream",
     "text": [
      "True\n",
      "False\n"
     ]
    }
   ],
   "source": [
    "def email_pass_validator(my_email: str, my_password: str) -> bool:\n",
    "\n",
    "    if ' ' in my_email or '@' not in my_email or '.' not in my_email.split('@')[-1]:\n",
    "        return False\n",
    "\n",
    "    has_lowercase = False\n",
    "    has_uppercase = False\n",
    "    has_digit = False\n",
    "\n",
    "    for char in my_password:\n",
    "        if char.islower():\n",
    "            has_lowercase = True\n",
    "        elif char.isupper():\n",
    "            has_uppercase = True\n",
    "        elif char.isdigit():\n",
    "            has_digit = True\n",
    "\n",
    "    return has_lowercase and has_uppercase and has_digit\n",
    "\n",
    "print(email_pass_validator(\"abc@utb.cz\", \"myPassword78\"))  \n",
    "print(email_pass_validator(\"abc@utb.cz\", \"myPassword\"))    "
   ]
  }
 ],
 "metadata": {
  "kernelspec": {
   "display_name": "base",
   "language": "python",
   "name": "python3"
  },
  "language_info": {
   "codemirror_mode": {
    "name": "ipython",
    "version": 3
   },
   "file_extension": ".py",
   "mimetype": "text/x-python",
   "name": "python",
   "nbconvert_exporter": "python",
   "pygments_lexer": "ipython3",
   "version": "3.11.5"
  },
  "vscode": {
   "interpreter": {
    "hash": "0295b551a68f3528dbce2e810c62405184ca6df052fac02bde6f9cc2b17e81fd"
   }
  }
 },
 "nbformat": 4,
 "nbformat_minor": 2
}
