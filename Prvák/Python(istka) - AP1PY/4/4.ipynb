{
 "cells": [
  {
   "cell_type": "markdown",
   "metadata": {},
   "source": [
    "## AP1PY - Úkol 02"
   ]
  },
  {
   "cell_type": "markdown",
   "metadata": {},
   "source": [
    "1. Vytvořte program, která vypočte kořeny kvadratické rovnice $ax^2 + bx + c = 0$. Program by měl řešit, kdy jsou řešením komplexní kořeny a kdy reálné kořeny. (2b)"
   ]
  },
  {
   "cell_type": "code",
   "execution_count": 74,
   "metadata": {},
   "outputs": [
    {
     "name": "stdout",
     "output_type": "stream",
     "text": [
      "Reálné kořeny: 5.0 a -1.0\n"
     ]
    }
   ],
   "source": [
    "import cmath\n",
    "a = 1\n",
    "b = -4\n",
    "c = -5\n",
    "\n",
    "D = b**2 - 4*a*c\n",
    "\n",
    "if D > 0:\n",
    "    koren1r = (-b + (D ** 0.5)) / (2*a)\n",
    "    koren2r = (-b - (D ** 0.5)) / (2*a)\n",
    "    print(f\"Kořeny: {koren1r} a {koren2r}\")\n",
    "elif D == 0:\n",
    "    koren = -b / (2*a)\n",
    "    print(f\"Jeden kořen: {koren}\")\n",
    "else:\n",
    "    Realna = -b / (2*a)\n",
    "    Komplexni = cmath.sqrt(-D) / (2*a)    \n",
    "    koren1k = complex(Realna, Komplexni)\n",
    "    koren2k = complex(Realna, -Komplexni)\n",
    "    print(f\"Komplexní kořeny: {koren1k} a {koren2k}\")"
   ]
  },
  {
   "cell_type": "markdown",
   "metadata": {},
   "source": [
    "2. Napište program, který vytiskne následující čísla na 2 desetinné čísla. Hodnota proměnných se ale nezmění. (1b)"
   ]
  },
  {
   "cell_type": "code",
   "execution_count": 1,
   "metadata": {},
   "outputs": [],
   "source": [
    "a = 2.3578\n",
    "b = 3.1\n",
    "print(round(a,2))\n",
    "print(round(b,2))"
   ]
  },
  {
   "cell_type": "markdown",
   "metadata": {},
   "source": [
    "3. Vytvořte program, který uživatele požádá o tři čísla a vrátí True pokud mohou tyto tři čísla tvořit strany trojúhelníka. Trojúhelník lze sestrojit pouze pokud jsou čísla kladná a suma jakýchkoliv dvou stran je větší než strana 3. (2b)\n",
    "   \n",
    "Vstup: 5, 7, 1   \n",
    "Výstup: False  "
   ]
  },
  {
   "cell_type": "code",
   "execution_count": 20,
   "metadata": {},
   "outputs": [
    {
     "data": {
      "text/plain": [
       "False"
      ]
     },
     "execution_count": 20,
     "metadata": {},
     "output_type": "execute_result"
    }
   ],
   "source": [
    "a = float(input(\"Zadej délku strany a: \"))\n",
    "b = float(input(\"Zadej délku strany b: \"))\n",
    "c = float(input(\"Zadej délku strany c: \"))\n",
    "\n",
    "def je_trojúhelník(a, b, c):    \n",
    "    if a > 0 and b > 0 and c > 0:\n",
    "        if a + b > c and a + c > b and b + c > a:\n",
    "            return True\n",
    "        else: \n",
    "            return False    \n",
    "    \n",
    "    \n",
    "\n",
    "\n",
    "je_trojúhelník(a, b, c)\n"
   ]
  },
  {
   "cell_type": "markdown",
   "metadata": {},
   "source": [
    "4. Vytvořte program, který se uživatele zeptá na celé číslo a vrátí jeho poslední číslici. Pracujte s číslem, bez užití stringu a indexování. (1b)  \n",
    "Vstup:128  \n",
    "Výstup: 8  \n",
    "Vstup:150  \n",
    "Výstup: 0 \n"
   ]
  },
  {
   "cell_type": "code",
   "execution_count": 26,
   "metadata": {},
   "outputs": [
    {
     "name": "stdout",
     "output_type": "stream",
     "text": [
      "9.0\n"
     ]
    }
   ],
   "source": [
    "a = float(input(\"Zadej číslo\"))\n",
    "if(a>=0):\n",
    "    print(a%10)\n",
    "else:\n",
    "    print((a*-1)%10)"
   ]
  },
  {
   "cell_type": "markdown",
   "metadata": {},
   "source": [
    "5. Vytvořte program, který vypočte cenu gumových medídků. Cena bombónu je závislá na počtu odebraných kusů:  \n",
    "-  prvních 100 ks stojí 1,50Kč/kus  \n",
    "- dalších 100 ks stojí 1,30Kč/kus  \n",
    "- od 200 a dále  stojí 1,00Kč/kus\n",
    "\n",
    " (2b)\n",
    "\n",
    "Vstup: 50  \n",
    "Výstup: 75 Kč  \n",
    "Vstup: 180  \n",
    "Výstup: 254 Kč    "
   ]
  },
  {
   "cell_type": "code",
   "execution_count": null,
   "metadata": {},
   "outputs": [
    {
     "name": "stdout",
     "output_type": "stream",
     "text": [
      "Celková cena 180 gumových medvídků je 254.0 Kč.\n"
     ]
    }
   ],
   "source": [
    "pocet = int(input(\"Zadejte počet gumových medvídků: \"))\n",
    "\n",
    "\n",
    "cena100 = 1.50  \n",
    "cena200 = 1.30 \n",
    "cena201 = 1.00 \n",
    "\n",
    "celkova_cena = 0\n",
    "\n",
    "if (pocet>=0):\n",
    "    if pocet <= 100:\n",
    "        cena = pocet * cena100\n",
    "    elif pocet <= 200:\n",
    "        cena = 100 * cena100 + (pocet - 100) * cena200\n",
    "    else:\n",
    "        cena = 100 * cena100 + 100 * cena200 + (pocet - 200) * cena201\n",
    "else:\n",
    "    print(\"Zadej prosím kladné číslo.\")\n",
    "\n",
    "\n",
    "\n",
    "print(f\"Celková cena {pocet} gumových medvídků je {cena} Kč.\")"
   ]
  },
  {
   "cell_type": "markdown",
   "metadata": {},
   "source": [
    "6. Vytvořte program, který vrátí známku na základě počtu bodů z odevzdaných úkolů. (1b)\n",
    "   \n",
    "90 - 100 bodů: A  \n",
    "80 -  90 bodů: B  \n",
    "70 -  80 bodů: C  \n",
    "60 -  70 bodů: D  \n",
    "50 -  60 bodů: E  \n",
    "méně         : F  \n",
    "\n",
    "Vstup: 70  \n",
    "Výstup: C "
   ]
  },
  {
   "cell_type": "code",
   "execution_count": null,
   "metadata": {},
   "outputs": [
    {
     "name": "stdout",
     "output_type": "stream",
     "text": [
      "Známka za 70.0 bodů je: C\n"
     ]
    }
   ],
   "source": [
    "body = float(input(\"Zadej počet bodů: \"))\n",
    "\n",
    "def urci_znamku(body):\n",
    "    if 90 <= body <= 100:\n",
    "        return \"A\"\n",
    "    elif 80 <= body < 90:\n",
    "        return \"B\"\n",
    "    elif 70 <= body < 80:\n",
    "        return \"C\"\n",
    "    elif 60 <= body < 70:\n",
    "        return \"D\"\n",
    "    elif 50 <= body < 60:\n",
    "        return \"E\"\n",
    "    else:\n",
    "        return \"F\"\n",
    "    \n",
    "znamka = urci_znamku(body)\n",
    "\n",
    "print(f\"Známka za {body} bodů je: {znamka}\")"
   ]
  },
  {
   "cell_type": "markdown",
   "metadata": {},
   "source": [
    "7. Vytvořte program, který uživatele požádá o měsíc v roce reprezentovaný celým číslem v rozsahu 1-12 a vrátí počet dní tohoto měsíce. (1b)\n",
    " \n",
    "Vstup: 3  \n",
    "Výstup: 31  "
   ]
  },
  {
   "cell_type": "code",
   "execution_count": null,
   "metadata": {},
   "outputs": [
    {
     "name": "stdout",
     "output_type": "stream",
     "text": [
      "Měsíc 3 má 31 dní.\n"
     ]
    }
   ],
   "source": [
    "mesic = int(input(\"Zadej měsíc (1-12): \"))\n",
    "\n",
    "\n",
    "def p_d_v_mes(mesic):\n",
    "    if mesic == 2:\n",
    "        return 28\n",
    "    elif mesic in [4, 6, 9, 11]:        \n",
    "        return 30\n",
    "    else:      \n",
    "        return 31\n",
    "pocet_dni = p_d_v_mes(mesic)\n",
    "print(f\"Měsíc {mesic} má {pocet_dni} dní.\")"
   ]
  }
 ],
 "metadata": {
  "kernelspec": {
   "display_name": "Python 3 (ipykernel)",
   "language": "python",
   "name": "python3"
  },
  "language_info": {
   "codemirror_mode": {
    "name": "ipython",
    "version": 3
   },
   "file_extension": ".py",
   "mimetype": "text/x-python",
   "name": "python",
   "nbconvert_exporter": "python",
   "pygments_lexer": "ipython3",
   "version": "3.12.0"
  },
  "vscode": {
   "interpreter": {
    "hash": "07608d72b38155c120e2f2bacdf337b4b6d3b8b4fde9daa573919b593d9b85db"
   }
  }
 },
 "nbformat": 4,
 "nbformat_minor": 4
}
