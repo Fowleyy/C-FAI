{
 "cells": [
  {
   "cell_type": "markdown",
   "id": "b23e2aa5-0593-407c-8095-cd0e037dba72",
   "metadata": {},
   "source": [
    " ### Úkol - Python01"
   ]
  },
  {
   "cell_type": "markdown",
   "id": "d82e01b1-2548-4f13-8bb2-21bc6ea31e7c",
   "metadata": {},
   "source": [
    "1. Nadefinujte proměnné a,b,c. Pro proměnné platí následující vztah:\n",
    "   \n",
    "   a * (b^2 + c) / 5\n",
    "   \n",
    "   Nechte vypsat výsledek operace celočíselného dělení výrazu výše. Formát výsledku bude zformatován tako:\n",
    "   \n",
    "   Výsledek je 3, zbytek 1.\n",
    "\n",
    "   (2b)"
   ]
  },
  {
   "cell_type": "code",
   "execution_count": null,
   "id": "7fe4fff3-8889-4297-9343-e3c849ab7f01",
   "metadata": {},
   "outputs": [],
   "source": [
    "a = 2\n",
    "b = 2\n",
    "c = 4\n",
    "vysledek = (a *(b**b + c)//5)\n",
    "zbytek = (a *(b**b + c)%5)\n",
    "print(f'Výsledek je {vysledek}, zbytek {zbytek} ')"
   ]
  },
  {
   "cell_type": "markdown",
   "id": "20983f9d-995e-4c66-b1c9-00bbdd896ef8",
   "metadata": {},
   "source": [
    "2. Načtěte rozměry místnosti dané šířkou, délkou a výškou.\n",
    "  \n",
    "   Vypočtěte spotřebu barvy v m2 na vymalování místnosti (podlaha se nemaluje, pouze stěny a strop). Výsledek vypište.\n",
    "\n",
    "   (2b)"
   ]
  },
  {
   "cell_type": "code",
   "execution_count": null,
   "id": "9a3a8f8c-ff22-4217-95a5-d00287c24db0",
   "metadata": {},
   "outputs": [],
   "source": [
    "vyska = 3\n",
    "sirka = 6\n",
    "delka = 5\n",
    "\n",
    "stena_delsi = sirka * vyska\n",
    "stena_kratsi = delka * vyska\n",
    "strop = sirka * delka\n",
    "\n",
    "vysledek = (2 * stena_delsi) + (2 * stena_kratsi) + strop\n",
    "print(\"Spotřeba barvy je:\",vysledek,\"m2\")"
   ]
  },
  {
   "cell_type": "markdown",
   "id": "5a281f3e-3bba-4c87-b82c-c1654c3252b9",
   "metadata": {},
   "source": [
    "3. Vypočtěte hodnotu výrazu $ x = 6a^{3}-\\frac{8b^2}{4c}+11 $ pro a = 2, b = 3, c = 2.\n",
    "\n",
    "   (2b)"
   ]
  },
  {
   "cell_type": "code",
   "execution_count": null,
   "id": "6f660127-b069-483b-a6c2-27119aefa298",
   "metadata": {},
   "outputs": [],
   "source": [
    "a = 2\n",
    "b = 3\n",
    "c = 2\n",
    "\n",
    "v = (pow(a,3)*6) - ((pow(b,2)*8)/(4*c)) + 11\n",
    "print(v)"
   ]
  },
  {
   "cell_type": "markdown",
   "id": "af04e4d5-7aac-45d1-9682-af1ffe777e22",
   "metadata": {},
   "source": [
    "4. Vytvořte skript, který vyzve uživatele k zadání teploty ve stupních Celsia a vrátí teplotu ve Fahrenheitech.\n",
    "\n",
    "   (2b)"
   ]
  },
  {
   "cell_type": "code",
   "execution_count": null,
   "id": "c140ef4b-d23c-48b6-b17e-11180609ad33",
   "metadata": {},
   "outputs": [],
   "source": [
    "while True:\n",
    "    try:\n",
    "        celsia = float(input(\"Zadej číslo ve stupních Celsia:\"))\n",
    "        fahren = celsia * 9/5 + 32\n",
    "        print(f\"{celsia} stupňů celsia je {fahren} stupňů fahrenheita\")\n",
    "        break\n",
    "    except ValueError:\n",
    "        print(\"Zadej číslo.\")"
   ]
  },
  {
   "cell_type": "markdown",
   "id": "62896cd9-d0cf-4757-8dff-323b51547ebe",
   "metadata": {},
   "source": [
    "5. Vytvořte skript, který uživatele požádá o poloměr r a vrátí plochu a obvod kruhu.\n",
    "  \n",
    "   (2b)"
   ]
  },
  {
   "cell_type": "code",
   "execution_count": null,
   "id": "6984b119-7a55-4d23-a968-04f552d1544d",
   "metadata": {},
   "outputs": [],
   "source": [
    "import math\n",
    "while True:\n",
    "    try:\n",
    "        r = float(input(\"Zadej poloměr kruhu:\"))\n",
    "        plocha = math.pi * pow(r,2)\n",
    "        obvod = 2 * math.pi * r\n",
    "        print(f\"plocha kruhu je {round(plocha,2)} a obvod je {round(obvod,2)}\")\n",
    "        break\n",
    "    except ValueError:\n",
    "        print(\"Zadej číslo.\")"
   ]
  }
 ],
 "metadata": {
  "kernelspec": {
   "display_name": "Python 3 (ipykernel)",
   "language": "python",
   "name": "python3"
  },
  "language_info": {
   "codemirror_mode": {
    "name": "ipython",
    "version": 3
   },
   "file_extension": ".py",
   "mimetype": "text/x-python",
   "name": "python",
   "nbconvert_exporter": "python",
   "pygments_lexer": "ipython3",
   "version": "3.11.4"
  }
 },
 "nbformat": 4,
 "nbformat_minor": 5
}
