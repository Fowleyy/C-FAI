{
 "cells": [
  {
   "cell_type": "markdown",
   "metadata": {},
   "source": [
    "## AP1PY - Python - Úkol 05"
   ]
  },
  {
   "attachments": {},
   "cell_type": "markdown",
   "metadata": {},
   "source": [
    "1. Napište funkci `rotate_long_words(my_text)`, která rozdělí řetězec na slova a v každém slově, které má více než 6 písmen otočí pořadí znaků a znovu vrátí celý řetězec. (3b)"
   ]
  },
  {
   "cell_type": "code",
   "execution_count": 2,
   "metadata": {},
   "outputs": [
    {
     "name": "stdout",
     "output_type": "stream",
     "text": [
      "ícavotset text pro slova delší 6 .neeeemsííííp\n"
     ]
    }
   ],
   "source": [
    "def rotate_long_words(my_text):\n",
    "    words = my_text.split()\n",
    "\n",
    "    for i in range(len(words)):\n",
    "        if len(words[i]) > 6:\n",
    "            words[i] = words[i][::-1]  \n",
    "\n",
    "    \n",
    "    rotated_text = ' '.join(words)\n",
    "\n",
    "    return rotated_text\n",
    "\n",
    "\n",
    "my_text = \"testovací text pro slova delší 6 písmeeeennnn.\"\n",
    "result = rotate_long_words(my_text)\n",
    "print(result)"
   ]
  },
  {
   "cell_type": "markdown",
   "metadata": {},
   "source": [
    "2. Vytvořte funkci, která má jako vstup seznam jmen a zkontroluje zda některé z těchto jmen je na seznamu `WANTED_LIST`. Jména které jsou uvedené v obou seznamech vypíše. (2b)  "
   ]
  },
  {
   "cell_type": "code",
   "execution_count": 3,
   "metadata": {},
   "outputs": [
    {
     "name": "stdout",
     "output_type": "stream",
     "text": [
      "Nalezená jména: ['Alice', 'David']\n"
     ]
    }
   ],
   "source": [
    "def find_wanted_names(names, wanted_list):\n",
    "    found_names = []\n",
    "    \n",
    "    for name in names:\n",
    "        if name in wanted_list:\n",
    "            found_names.append(name)\n",
    "    \n",
    "    return found_names\n",
    "\n",
    "\n",
    "WANTED_LIST = [\"Daniel\", \"Patrik\", \"Roman\", \"Petr\"]\n",
    "names_to_check = [\"Alice\", \"Daniel\", \"David\", \"Petr\", \"Vojta\"]\n",
    "\n",
    "result = find_wanted_names(names_to_check, WANTED_LIST)\n",
    "print(\"Nalezená jména:\", result)"
   ]
  },
  {
   "attachments": {},
   "cell_type": "markdown",
   "metadata": {},
   "source": [
    "3. Vytvořte program, který vrátí nejkratší a nejdelší slovo z řetězce. (3b)  \n",
    "Vstup: \"Jazyk Python je vysokoúrovňový programovací jazyk\"  \n",
    "Výstup:    \n",
    "Nejkratší = \"je\"  \n",
    "Nejdelší = \"vysokoúrovňový\""
   ]
  },
  {
   "cell_type": "code",
   "execution_count": 5,
   "metadata": {},
   "outputs": [
    {
     "name": "stdout",
     "output_type": "stream",
     "text": [
      "Nejkratší = \"je\"\n",
      "Nejdelší = \"vysokoúrovňový\"\n"
     ]
    }
   ],
   "source": [
    "def shortest_and_longest_words(text):\n",
    "    words = text.split()\n",
    "\n",
    "\n",
    "    shortest = None\n",
    "    longest = None\n",
    "\n",
    "   \n",
    "    for word in words:\n",
    "        if shortest is None or len(word) < len(shortest):\n",
    "            shortest = word\n",
    "        if longest is None or len(word) > len(longest):\n",
    "            longest = word\n",
    "\n",
    "    return shortest, longest\n",
    "\n",
    "input_text = \"Jazyk Python je vysokoúrovňový programovací jazyk\"\n",
    "\n",
    "shortest, longest = shortest_and_longest_words(input_text)\n",
    "\n",
    "print(f\"Nejkratší = \\\"{shortest}\\\"\")\n",
    "print(f\"Nejdelší = \\\"{longest}\\\"\")"
   ]
  },
  {
   "attachments": {},
   "cell_type": "markdown",
   "metadata": {},
   "source": [
    "4. Vytvořte program, který požádá uživatele o zadání hodnot oddělených čárkou a vrátí `list` a `tuple` těchto hodnot. (2b)  \n",
    "Vstup: 12,45,75,36,15  \n",
    "Výstup: [12,45,75,36,15], (12,45,75,36,15)  "
   ]
  },
  {
   "cell_type": "code",
   "execution_count": 6,
   "metadata": {},
   "outputs": [
    {
     "name": "stdout",
     "output_type": "stream",
     "text": [
      "[12, 45, 75, 36, 15]\n",
      "(12, 45, 75, 36, 15)\n"
     ]
    }
   ],
   "source": [
    "user_input = input(\"Zadej hodnoty oddělené čárkou: \")\n",
    "values = user_input.split(',')\n",
    "\n",
    "value_list = [int(value) for value in values]\n",
    "value_tuple = tuple(value_list)\n",
    "\n",
    "print(value_list)\n",
    "print(value_tuple)  "
   ]
  }
 ],
 "metadata": {
  "kernelspec": {
   "display_name": "Python 3",
   "language": "python",
   "name": "python3"
  },
  "language_info": {
   "codemirror_mode": {
    "name": "ipython",
    "version": 3
   },
   "file_extension": ".py",
   "mimetype": "text/x-python",
   "name": "python",
   "nbconvert_exporter": "python",
   "pygments_lexer": "ipython3",
   "version": "3.11.5"
  },
  "vscode": {
   "interpreter": {
    "hash": "c261aea317cc0286b3b3261fbba9abdec21eaa57589985bb7a274bf54d6cc0a7"
   }
  }
 },
 "nbformat": 4,
 "nbformat_minor": 2
}
