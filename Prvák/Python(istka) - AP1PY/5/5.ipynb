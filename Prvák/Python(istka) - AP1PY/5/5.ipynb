{
 "cells": [
  {
   "attachments": {},
   "cell_type": "markdown",
   "metadata": {},
   "source": [
    "## Pythonu 03 - Řetězce\n",
    "---"
   ]
  },
  {
   "cell_type": "markdown",
   "metadata": {},
   "source": [
    "### Cvičení"
   ]
  },
  {
   "attachments": {},
   "cell_type": "markdown",
   "metadata": {},
   "source": [
    "1. Vytvořte program, který odstraní n-tý znak z řetězce. (1b)  \n",
    "n = 3  \n",
    "Vstup: \"Python\"  \n",
    "Výstup: \"Pyton\"  "
   ]
  },
  {
   "cell_type": "code",
   "execution_count": null,
   "metadata": {},
   "outputs": [
    {
     "name": "stdout",
     "output_type": "stream",
     "text": [
      "Pyton\n"
     ]
    }
   ],
   "source": [
    "def odstranznak(retezec, n):\n",
    "    if n < 0 or n >= len(retezec):\n",
    "        return \"Nesprávný index\"\n",
    "    \n",
    "    novy_retezec = retezec[:n] + retezec[n+1:]\n",
    "    return novy_retezec\n",
    "\n",
    "retezec = \"Python\"\n",
    "n = 3\n",
    "novy_retezec = odstranznak(retezec, n)\n",
    "print(novy_retezec)"
   ]
  },
  {
   "attachments": {},
   "cell_type": "markdown",
   "metadata": {},
   "source": [
    "2. Vytvořte program, který zjistí zda zadaný řetězec lze číst i od zadu a má stejný význam. Řetězec může obsahovat mezery, které nemají vliv. (2b)  \n",
    "Vstup:\"plaz z alp\"  \n",
    "Výstup: True  \n",
    "Vstup:\"okno\"  \n",
    "Výstup: False  "
   ]
  },
  {
   "cell_type": "code",
   "execution_count": null,
   "metadata": {},
   "outputs": [
    {
     "name": "stdout",
     "output_type": "stream",
     "text": [
      "Zadaný řetězec není palindrom.\n"
     ]
    }
   ],
   "source": [
    "def palindrom(retezec):\n",
    "    retezec = retezec.replace(\" \", \"\")\n",
    "    retezec = retezec.lower()\n",
    "    \n",
    "    return retezec == retezec[::-1]\n",
    "\n",
    "vstupni_retezec = input(\"Zadejte řetězec: \")\n",
    "\n",
    "if palindrom(vstupni_retezec):\n",
    "    print(\"Řetězec je palindrom.\")\n",
    "else:\n",
    "    print(\"Řetězec není palindrom.\")"
   ]
  },
  {
   "attachments": {},
   "cell_type": "markdown",
   "metadata": {},
   "source": [
    "3. Vytvořte program, který převede vstupní řetězec tak, že všechny samohlásky převede na velké písmena. (2b)   \n",
    "Vstup: ahoj  \n",
    "Výstup: AhOj  "
   ]
  },
  {
   "cell_type": "code",
   "execution_count": null,
   "metadata": {},
   "outputs": [
    {
     "name": "stdout",
     "output_type": "stream",
     "text": [
      "Převedený řetězec: AhOj\n"
     ]
    }
   ],
   "source": [
    "def preved_samohlasky(retezec):\n",
    "    samohlasky = \"aeiouAEIOU\"\n",
    "    \n",
    "    novy_retezec = \"\" \n",
    "    \n",
    "    for znak in retezec:\n",
    "        if znak in samohlasky:\n",
    "            novy_retezec += znak.upper()\n",
    "        else:\n",
    "            novy_retezec += znak \n",
    "    return novy_retezec\n",
    "\n",
    "vstupni_retezec = input(\"Zadej řetězec: \")\n",
    "prevedeny_retezec = preved_samohlasky(vstupni_retezec)\n",
    "print(\"Převedený řetězec:\", prevedeny_retezec)"
   ]
  },
  {
   "attachments": {},
   "cell_type": "markdown",
   "metadata": {},
   "source": [
    "4. Vytvořte program, který zakóduje text pomocí cyklické šifry. U cyklické šifry je každý znak nahrazen znakem o několik pozic posunutým. (3b)  \n",
    "Např. pro posunutí 3: <br>\n",
    "Text : ABCDEFGHIJKLMNOPQRSTUVWXYZ <br>\n",
    "Šifra: DEFGHIJKLMNOPQRSTUVWXYZABC <br>\n",
    "n = 3  \n",
    "Vstup: \"AHOJ\"  \n",
    "Výstup\" \"DKRM\"  "
   ]
  },
  {
   "cell_type": "code",
   "execution_count": null,
   "metadata": {},
   "outputs": [
    {
     "name": "stdout",
     "output_type": "stream",
     "text": [
      "Zakódovaný text: DKRM\n"
     ]
    }
   ],
   "source": [
    "def zakoduj(text, posun):\n",
    "    zakodovany_text = \"\"\n",
    "    for znak in text:\n",
    "        if znak.isalpha():\n",
    "            velke_pismeno = znak.isupper() \n",
    "            znak = znak.upper()  \n",
    "            posunuty_kod = ord(znak) + posun  \n",
    "            if posunuty_kod > ord('Z'):\n",
    "                posunuty_kod -= 26  \n",
    "            zakodovany_znak = chr(posunuty_kod)\n",
    "            if not velke_pismeno:\n",
    "                zakodovany_znak = zakodovany_znak.lower() \n",
    "            zakodovany_text += zakodovany_znak\n",
    "        else:\n",
    "            zakodovany_text += znak \n",
    "    return zakodovany_text\n",
    "\n",
    "text = input(\"Zadejte text k zakódování: \")\n",
    "posun = int(input(\"Zadejte posun: \"))\n",
    "\n",
    "zakodovany_text = zakoduj(text, posun)\n",
    "print(\"Zakódovaný text:\", zakodovany_text)"
   ]
  },
  {
   "attachments": {},
   "cell_type": "markdown",
   "metadata": {},
   "source": [
    "5. Vytvořte program, který převede *snake-case* řetězec na *Pascal* řetězec. (2b)  \n",
    "Vstup: \"my_string\"  \n",
    "Výstup: \"MyString\"\n"
   ]
  },
  {
   "cell_type": "code",
   "execution_count": null,
   "metadata": {},
   "outputs": [
    {
     "name": "stdout",
     "output_type": "stream",
     "text": [
      "Převedený řetězec: MyString\n"
     ]
    }
   ],
   "source": [
    "def snake_to_pascal(snaky_retezec):\n",
    "    slova = snaky_retezec.split(\"_\") \n",
    "    pascal_retezec = \"\"\n",
    "    for slovo in slova:\n",
    "        pascal_retezec += slovo.capitalize()\n",
    "    return pascal_retezec\n",
    "\n",
    "snake_case_retezec = input(\"Zadej řetězec ve formátu snake-case: \")\n",
    "\n",
    "pascal_case_retezec = snake_to_pascal(snake_case_retezec)\n",
    "print(\"Převedený řetězec:\", pascal_case_retezec)"
   ]
  }
 ],
 "metadata": {
  "kernelspec": {
   "display_name": "base",
   "language": "python",
   "name": "python3"
  },
  "language_info": {
   "codemirror_mode": {
    "name": "ipython",
    "version": 3
   },
   "file_extension": ".py",
   "mimetype": "text/x-python",
   "name": "python",
   "nbconvert_exporter": "python",
   "pygments_lexer": "ipython3",
   "version": "3.12.0"
  },
  "vscode": {
   "interpreter": {
    "hash": "0295b551a68f3528dbce2e810c62405184ca6df052fac02bde6f9cc2b17e81fd"
   }
  }
 },
 "nbformat": 4,
 "nbformat_minor": 2
}
