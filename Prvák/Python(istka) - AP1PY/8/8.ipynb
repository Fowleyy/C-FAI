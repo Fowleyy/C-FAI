{
 "cells": [
  {
   "cell_type": "markdown",
   "metadata": {},
   "source": [
    "## AP1PY - Python - Úkol 06"
   ]
  },
  {
   "attachments": {},
   "cell_type": "markdown",
   "metadata": {},
   "source": [
    "1. Napište funkci `find_numerical_keys()`, která vrátí seznam klíčů, jejichž hodnota je numerická hodnota. (2b)  \n",
    "Pro objekt `my_dict` by měla funkce vrátit [\"age\",\"children\"]."
   ]
  },
  {
   "cell_type": "code",
   "execution_count": 3,
   "metadata": {},
   "outputs": [
    {
     "name": "stdout",
     "output_type": "stream",
     "text": [
      "['age', 'children']\n"
     ]
    }
   ],
   "source": [
    "def find_numerical_keys(my_dict):\n",
    "    numerical_keys = [key for key, value in my_dict.items() if isinstance(value, (int, float))]\n",
    "    return numerical_keys\n",
    "\n",
    "# Příklad použití\n",
    "my_dict = {\n",
    "    \"name\": \"Jan Nový\",\n",
    "    \"male\": \"Yes\",\n",
    "    \"age\": 36,\n",
    "    \"married\": \"Yes\",\n",
    "    \"children\": 2\n",
    "}\n",
    "\n",
    "result = find_numerical_keys(my_dict)\n",
    "print(result)\n"
   ]
  },
  {
   "attachments": {},
   "cell_type": "markdown",
   "metadata": {},
   "source": [
    "2. Vytvořte funkci `word_frequency(my_string)`, která jako vstup má řetězec a vrátí slovník s četností jednotlivých znaků. (2b)   \n",
    "Vstup: \"aaabccddd\"  \n",
    "Výstup:  \n",
    " `{ ’a’ : 3, ’b’ : 1, ’c’ : 2, ’d’ : 3 }`"
   ]
  },
  {
   "cell_type": "code",
   "execution_count": 1,
   "metadata": {},
   "outputs": [
    {
     "name": "stdout",
     "output_type": "stream",
     "text": [
      "{'a': 3, 'b': 1, 'c': 2, 'd': 3}\n"
     ]
    }
   ],
   "source": [
    "def word_frequency(my_string):\n",
    "    frequency_dict = {}\n",
    "    for char in my_string:\n",
    "        if char in frequency_dict:\n",
    "            frequency_dict[char] += 1\n",
    "        else:\n",
    "            frequency_dict[char] = 1\n",
    "    return frequency_dict\n",
    "\n",
    "input_string = \"aaabccddd\"\n",
    "result = word_frequency(input_string)\n",
    "print(result)\n"
   ]
  },
  {
   "attachments": {},
   "cell_type": "markdown",
   "metadata": {},
   "source": [
    "3. Vytvořte funkci intersect(list1, list2), která má dva seznamy jako vstup a vrátí seznam prvků vyskytujících se v obou seznamech. Použijte datový typ `set`. (1b)  "
   ]
  },
  {
   "cell_type": "code",
   "execution_count": 4,
   "metadata": {},
   "outputs": [
    {
     "name": "stdout",
     "output_type": "stream",
     "text": [
      "[3, 4, 5]\n"
     ]
    }
   ],
   "source": [
    "def intersect(list1, list2):\n",
    "    set1 = set(list1)\n",
    "    set2 = set(list2)\n",
    "    intersection = set1.intersection(set2)\n",
    "    return list(intersection)\n",
    "\n",
    "# Příklad použití\n",
    "list1 = [1, 2, 3, 4, 5]\n",
    "list2 = [3, 4, 5, 6, 7]\n",
    "\n",
    "result = intersect(list1, list2)\n",
    "print(result)\n"
   ]
  },
  {
   "attachments": {},
   "cell_type": "markdown",
   "metadata": {},
   "source": [
    "4. Nákup v obchodě je dán ve formě slovníku. Pro každou položku je hodnota další slovník se dvěma klíči: množstvím a cenou. Vypočtěte celkovou cenu zboží. (1b)   "
   ]
  },
  {
   "cell_type": "code",
   "execution_count": 5,
   "metadata": {},
   "outputs": [
    {
     "name": "stdout",
     "output_type": "stream",
     "text": [
      "Celková cena zboží: 528.37\n"
     ]
    }
   ],
   "source": [
    "def calculate_total_price(shopping_dict):\n",
    "    celkova_cena = 0\n",
    "    for item, details in shopping_dict.items():\n",
    "        quantity = details[\"quantity\"]\n",
    "        price = details[\"price\"]\n",
    "        celkova_cena += quantity * price\n",
    "    return celkova_cena\n",
    "\n",
    "# Příklad použití\n",
    "supermarket = {\n",
    "    \"milk\": {\"quantity\": 20, \"price\": 1.19},\n",
    "    \"biscuits\": {\"quantity\": 32, \"price\": 1.45},\n",
    "    \"butter\": {\"quantity\": 20, \"price\": 2.29},\n",
    "    \"cheese\": {\"quantity\": 15, \"price\": 1.90},\n",
    "    \"bread\": {\"quantity\": 15, \"price\": 2.59},\n",
    "    \"cookies\": {\"quantity\": 20, \"price\": 4.99},\n",
    "    \"yogurt\": {\"quantity\": 18, \"price\": 3.65},\n",
    "    \"apples\": {\"quantity\": 35, \"price\": 3.15},\n",
    "    \"oranges\": {\"quantity\": 40, \"price\": 0.99},\n",
    "    \"bananas\": {\"quantity\": 23, \"price\": 1.29}\n",
    "}\n",
    "\n",
    "celkova_cena = calculate_total_price(supermarket)\n",
    "print(\"Celková cena zboží:\", celkova_cena)\n"
   ]
  },
  {
   "attachments": {},
   "cell_type": "markdown",
   "metadata": {},
   "source": [
    "5. Vytvořte funkce `morse_encode()` a `morse_decode()` , který zakóduje řetězec zadaný uživatelem do Morseovy abecedy respektive dekóduje řetězec s Morseovou abecedou. Jednotlivé znaky oddělte mezerou. Ignorujte jiné než alfanumerické znaky.  (4b)  \n",
    "morse_decode(\"Ahoj\") by mělo vrátit: '.- .... --- .--- '  \n",
    "morse_encode(\"--.. -.. .- .-.\") by mělo vrátit: ZDAR\n"
   ]
  },
  {
   "cell_type": "code",
   "execution_count": 8,
   "metadata": {},
   "outputs": [
    {
     "name": "stdout",
     "output_type": "stream",
     "text": [
      "\"Ahoj\" by mělo vrátit: '.- .... --- .---'\n",
      "\".- .... --- .---\" by mělo vrátit: \"ZDAR\"\n"
     ]
    }
   ],
   "source": [
    "MORSE_CODE_DICT = {'A': '.-', 'B': '-...', 'C': '-.-.', 'D': '-..', 'E': '.', 'F': '..-.', 'G': '--.', \n",
    "                   'H': '....', 'I': '..', 'J': '.---', 'K': '-.-', 'L': '.-..', 'M': '--', 'N': '-.', \n",
    "                   'O': '---', 'P': '.--.', 'Q': '--.-', 'R': '.-.', 'S': '...', 'T': '-', 'U': '..-', \n",
    "                   'V': '...-', 'W': '.--', 'X': '-..-', 'Y': '-.--', 'Z': '--..', '0': '-----', '1': '.----', \n",
    "                   '2': '..---', '3': '...--', '4': '....-', '5': '.....', '6': '-....', '7': '--...', '8': '---..', \n",
    "                   '9': '----.'}\n",
    "\n",
    "\n",
    "def morse_encode(message):\n",
    "    zprava_na_zakodovani = \"\"\n",
    "    for char in message.upper():\n",
    "        if char.isalnum():\n",
    "            if char in MORSE_CODE_DICT:\n",
    "                zprava_na_zakodovani += MORSE_CODE_DICT[char] + ' '\n",
    "    return zprava_na_zakodovani.rstrip()\n",
    "\n",
    "\n",
    "def morse_decode(message):\n",
    "    zprava_na_odkodovani = \"\"\n",
    "    morse_code_reverse = {v: k for k, v in MORSE_CODE_DICT.items()}\n",
    "    morse_words = message.split(' ')\n",
    "    for morse_word in morse_words:\n",
    "        if morse_word in morse_code_reverse:\n",
    "            zprava_na_odkodovani += morse_code_reverse[morse_word]\n",
    "    return zprava_na_odkodovani\n",
    "\n",
    "text_na_kodovani = \"Ahoj\"\n",
    "text_na_odkodovani = \"--.. -.. .- .-.\"\n",
    "\n",
    "vysledek_kodovani = morse_encode(text_na_kodovani)\n",
    "\n",
    "print(f'\"Ahoj\" by mělo vrátit: \\'{vysledek_kodovani}\\'')\n",
    "\n",
    "vysledek_odkodovani = morse_decode(text_na_odkodovani)\n",
    "\n",
    "print(f'\".- .... --- .---\" by mělo vrátit: \"{vysledek_odkodovani}\"')\n"
   ]
  }
 ],
 "metadata": {
  "kernelspec": {
   "display_name": "Python 3",
   "language": "python",
   "name": "python3"
  },
  "language_info": {
   "codemirror_mode": {
    "name": "ipython",
    "version": 3
   },
   "file_extension": ".py",
   "mimetype": "text/x-python",
   "name": "python",
   "nbconvert_exporter": "python",
   "pygments_lexer": "ipython3",
   "version": "3.10.11"
  },
  "vscode": {
   "interpreter": {
    "hash": "c261aea317cc0286b3b3261fbba9abdec21eaa57589985bb7a274bf54d6cc0a7"
   }
  }
 },
 "nbformat": 4,
 "nbformat_minor": 2
}
